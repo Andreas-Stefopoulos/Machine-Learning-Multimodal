{
 "cells": [
  {
   "cell_type": "raw",
   "id": "0d6d0f33",
   "metadata": {},
   "source": [
    "Importing necessary libraries."
   ]
  },
  {
   "cell_type": "code",
   "execution_count": 135,
   "id": "a1776d94",
   "metadata": {},
   "outputs": [],
   "source": [
    "import cv2\n",
    "import pytesseract\n",
    "import re\n",
    "import imutils \n",
    "from PIL import Image\n",
    "import numpy as np\n",
    "from matplotlib import pyplot as plt\n",
    "import requests\n",
    "import io\n",
    "import json\n",
    "import easyocr\n",
    "from gingerit.gingerit import GingerIt\n",
    "import pandas as pd\n",
    "import pysbd\n",
    "import language_tool_python\n",
    "from textblob import TextBlob\n",
    "from scipy.ndimage import interpolation as inter\n",
    "from spellchecker import SpellChecker\n",
    "from fp.fp import FreeProxy"
   ]
  },
  {
   "cell_type": "raw",
   "id": "ecfe4dfd",
   "metadata": {},
   "source": [
    "Some pytesseract and other configurations configurations."
   ]
  },
  {
   "cell_type": "code",
   "execution_count": 136,
   "id": "60e84113",
   "metadata": {},
   "outputs": [],
   "source": [
    "pytesseract.pytesseract.tesseract_cmd = r'C:\\Program Files (x86)\\Tesseract-OCR\\tesseract.exe'\n",
    "TESSDATA_PREFIX = r'C:\\Program Files (x86)\\Tesseract-OCR'\n",
    "custom_config = 'eng'\n",
    "\n",
    "def make_me_invisible():\n",
    "    global proxy\n",
    "    proxy1 = FreeProxy(timeout=1, rand=True, anonym=False).get()\n",
    "    proxy2 = 'http://' \n",
    "    proxy = {proxy2 : proxy1}\n",
    "    while len(proxy1) > 27:\n",
    "        proxy1 = FreeProxy(timeout=1, rand=True, anonym=False).get()\n",
    "        proxy2 = 'http://' \n",
    "        proxy = {proxy2 : proxy1}  \n",
    "    return proxy"
   ]
  },
  {
   "cell_type": "raw",
   "id": "447eca66",
   "metadata": {},
   "source": [
    "Firstly we will introduce our cropping algorithms.\n",
    "The first tools we introduce in our code are the cropping functions we created.\n",
    "definitions \"preprocess_image\", \"find edges\", \"adapt_edges\" and \"crop1\": Using the OpenCV library, we first apply preprocess to the given image and by using kernels we find through erosion the segments we need to crop. Then, we find the edges of these erosions and we adapt the image to this edges. \"crop1\" function is the main function to apply the 3 abovementioned functions."
   ]
  },
  {
   "cell_type": "code",
   "execution_count": 137,
   "id": "40baffa5",
   "metadata": {},
   "outputs": [],
   "source": [
    "def preproces_image(\n",
    "    image,\n",
    "    *,\n",
    "    kernel_size=15,\n",
    "    crop_side=50,\n",
    "    blocksize=35,\n",
    "    constant=15,\n",
    "    max_value=255,\n",
    "):\n",
    "    gray = cv2.cvtColor(image, cv2.COLOR_BGR2GRAY)\n",
    "    bit = cv2.bitwise_not(gray)\n",
    "    image_adapted = cv2.adaptiveThreshold(\n",
    "        src=bit,\n",
    "        maxValue=max_value,\n",
    "        adaptiveMethod=cv2.ADAPTIVE_THRESH_MEAN_C,\n",
    "        thresholdType=cv2.THRESH_BINARY,\n",
    "        blockSize=blocksize,\n",
    "        C=constant,\n",
    "    )\n",
    "    kernel = np.ones((kernel_size, kernel_size), np.uint8)\n",
    "    erosion = cv2.erode(image_adapted, kernel, iterations=2)\n",
    "    return erosion[crop_side:-crop_side, crop_side:-crop_side]\n",
    "\n",
    "def find_edges(image_preprocessed, *, bw_threshold=150, limits=(0.2, 0.15)):\n",
    "    mask = image_preprocessed < bw_threshold\n",
    "    edges = []\n",
    "    for axis in (1, 0):\n",
    "        count = mask.sum(axis=axis)\n",
    "        limit = limits[axis] * image_preprocessed.shape[axis]\n",
    "        index_ = np.where(count >= limit)\n",
    "        _min, _max = index_[0][0], index_[0][-1]\n",
    "        edges.append((_min, _max))\n",
    "    return edges\n",
    "\n",
    "def adapt_edges(edges, *, height, width):\n",
    "    (x_min, x_max), (y_min, y_max) = edges\n",
    "    x_min2 = x_min\n",
    "    x_max2 = x_max + min(250, (height - x_max) * 10 // 11)\n",
    "    # could do with less magic numbers\n",
    "    y_min2 = max(0, y_min)\n",
    "    y_max2 = y_max + min(250, (width - y_max) * 10 // 11)\n",
    "    return (x_min2, x_max2), (y_min2, y_max2)\n",
    "\n",
    "def crop1(image):\n",
    "    image_preprocessed = preproces_image(image)\n",
    "    height, width = image.shape[0:2]\n",
    "    edges = find_edges(image_preprocessed)\n",
    "    (x_min, x_max), (y_min, y_max) = adapt_edges(edges, height=height, width=width)\n",
    "    image_cropped = image[x_min:x_max, y_min:y_max]\n",
    "    return image_cropped"
   ]
  },
  {
   "cell_type": "raw",
   "id": "fc55deed",
   "metadata": {},
   "source": [
    "The second cropping algorithm is also using OpenCV and through Canny (fill with black areas with no elements and white these with elements) it performs a fast segmentation of the image. Adapting the image to straight lines to these segments and then cropping, gives us the final result."
   ]
  },
  {
   "cell_type": "code",
   "execution_count": 138,
   "id": "27af6c16",
   "metadata": {},
   "outputs": [],
   "source": [
    "def crop2(img):\n",
    "    #img = cv2.imread(\"test.png\")\n",
    "    blurred = cv2.blur(img, (3,3))\n",
    "    canny = cv2.Canny(blurred, 50, 200)\n",
    "    ## find the non-zero min-max coords of canny\n",
    "    pts = np.argwhere(canny>0)\n",
    "    y1,x1 = pts.min(axis=0)\n",
    "    y2,x2 = pts.max(axis=0)\n",
    "    ## crop the region\n",
    "    cropped = img[y1:y2, x1:x2]\n",
    "    return cropped"
   ]
  },
  {
   "cell_type": "raw",
   "id": "c74f7f45",
   "metadata": {},
   "source": [
    "The third cropping algorithm also uses OpenCV library. The distinction between the previous algorithm is that now we apply more preprocessing to the image and we also allocate the contours (segments) inside the image. the preprocess we apply is with different filters and in the end in order to find the cropping segment, we fill all the contours and find the edges of them. By taking the max values of all x and y, we have the borders of our new image so we apply crop."
   ]
  },
  {
   "cell_type": "code",
   "execution_count": 139,
   "id": "5653178d",
   "metadata": {},
   "outputs": [],
   "source": [
    "def crop3(img):\n",
    "    gray = cv2.cvtColor(img, cv2.COLOR_BGR2GRAY)\n",
    "    blurred = cv2.GaussianBlur(gray, (5, 5), 0) # Blur\n",
    "    canny = cv2.Canny(blurred, 30, 150) # Canny\n",
    "    contours = cv2.findContours(canny, cv2.RETR_EXTERNAL, cv2.CHAIN_APPROX_SIMPLE)\n",
    "    contours = contours[0] if len(contours) == 2 else contours[1]\n",
    "    cv2.drawContours(canny, contours, -1, 255, 2)\n",
    "    canny = 255 - canny\n",
    "    # Get mask for floodfill\n",
    "    thresh = cv2.threshold(canny, 0, 255, cv2.THRESH_BINARY_INV + cv2.THRESH_OTSU)[1]\n",
    "    h, w = thresh.shape[:2]\n",
    "    mask = np.zeros((h+2, w+2), np.uint8)\n",
    "    # Floodfill from point (0, 0)\n",
    "    cv2.floodFill(thresh, mask, (0,0), 0)\n",
    "    rects = [cv2.boundingRect(cnt) for cnt in contours]\n",
    "    #Calculate the combined bounding rectangle points.\n",
    "    top_x = min([x for (x, y, w, h) in rects])\n",
    "    top_y = min([y for (x, y, w, h) in rects])\n",
    "    bottom_x = max([x+w for (x, y, w, h) in rects])\n",
    "    bottom_y = max([y+h for (x, y, w, h) in rects])\n",
    "    #Draw the rectangle on the image for testing\n",
    "    out = cv2.rectangle(img, (top_x, top_y), (bottom_x, bottom_y), (0, 255, 0), 2)\n",
    "    cropped = img[top_y:bottom_y, top_x:bottom_x]\n",
    "    return cropped"
   ]
  },
  {
   "cell_type": "raw",
   "id": "56a23f3e",
   "metadata": {},
   "source": [
    "Continuing our preprocess, we will now present the different skew correction algorithms, who rotate the image in order to be easier and more efficient the text extraction we will apply later. The first algorithm \"tesrotate1\" uses the pytesseract library and the information collected by using pytesseract.image_to_osd(). Inside is the information of how much rotated a image is. We use this information to rotate the image by finding the middle point (height/2, length/2) and then use the rotation matrix from OpenCV to rotate the image."
   ]
  },
  {
   "cell_type": "code",
   "execution_count": 140,
   "id": "ccc32e78",
   "metadata": {},
   "outputs": [],
   "source": [
    "def tesrotate1(image, center = None, scale = 1.0):\n",
    "    angle=360-int(re.search('(?<=Rotate: )\\d+', pytesseract.image_to_osd(image)).group(0))\n",
    "    (h, w) = image.shape[:2]\n",
    "\n",
    "    if center is None:\n",
    "        center = (w / 2, h / 2)\n",
    "\n",
    "    # Perform the rotation\n",
    "    M = cv2.getRotationMatrix2D(center, angle, scale)\n",
    "    rotated = cv2.warpAffine(image, M, (w, h))\n",
    "    return rotated"
   ]
  },
  {
   "cell_type": "raw",
   "id": "6f21fa0c",
   "metadata": {},
   "source": [
    "Similar with the previous algorithm, \"tesrotate2\" uses also the information gained from pytesseract and by using imutils we rotate the image."
   ]
  },
  {
   "cell_type": "code",
   "execution_count": 141,
   "id": "6d63560a",
   "metadata": {},
   "outputs": [],
   "source": [
    "def tesrotate2(image):\n",
    "    rot_data = pytesseract.image_to_osd(image)\n",
    "    rot = re.search('(?<=Rotate: )\\d+', rot_data).group(0)\n",
    "    angle = float(rot)\n",
    "    rotated = imutils.rotate_bound(image, angle)\n",
    "    return rotated"
   ]
  },
  {
   "cell_type": "raw",
   "id": "95217155",
   "metadata": {},
   "source": [
    "A different approach from the previous is that in this algorithm, we use a score value in order to have the best possible rotation fix. In order to achieve that, we rotate the image in every angle in a definition, keep the scores in a histogram and the max score is the best angle which we then apply to our image with the abovementioned technique of finding the center and rotating the image."
   ]
  },
  {
   "cell_type": "code",
   "execution_count": 142,
   "id": "f548e917",
   "metadata": {},
   "outputs": [],
   "source": [
    "def correct_skew1(image, delta=1, limit=5):\n",
    "    def determine_score(arr, angle):\n",
    "        data = inter.rotate(arr, angle, reshape=False, order=0)\n",
    "        histogram = np.sum(data, axis=1)\n",
    "        score = np.sum((histogram[1:] - histogram[:-1]) ** 2)\n",
    "        return histogram, score\n",
    "\n",
    "    gray = cv2.cvtColor(image, cv2.COLOR_BGR2GRAY)\n",
    "    thresh = cv2.threshold(gray, 0, 255, cv2.THRESH_BINARY_INV + cv2.THRESH_OTSU)[1] \n",
    "\n",
    "    scores = []\n",
    "    angles = np.arange(-limit, limit + delta, delta)\n",
    "    for angle in angles:\n",
    "        histogram, score = determine_score(thresh, angle)\n",
    "        scores.append(score)\n",
    "\n",
    "    best_angle = angles[scores.index(max(scores))]\n",
    "\n",
    "    (h, w) = image.shape[:2]\n",
    "    center = (w // 2, h // 2)\n",
    "    M = cv2.getRotationMatrix2D(center, best_angle, 1.0)\n",
    "    rotated = cv2.warpAffine(image, M, (w, h), flags=cv2.INTER_CUBIC, \\\n",
    "              borderMode=cv2.BORDER_REPLICATE)\n",
    "\n",
    "    return rotated"
   ]
  },
  {
   "cell_type": "raw",
   "id": "fe599a2a",
   "metadata": {},
   "source": [
    "In these definitions, with the help of OpenCV, we first detect the current angle of the image and then we apply the rotation in the image. In order to find the currenct angle, we use many OpenCV tools in order to preprocess our image (by finding contours too). This pipeline of definitions uses text recognition tools and works only with images with text. By recognising the text, it desides which is the current angle. Comments in code may be helpful for further analysis."
   ]
  },
  {
   "cell_type": "code",
   "execution_count": 143,
   "id": "a7ac14f8",
   "metadata": {},
   "outputs": [],
   "source": [
    "def getSkewAngle(cvImage) -> float:\n",
    "    # Prep image, copy, convert to gray scale, blur, and threshold\n",
    "    newImage = cvImage.copy()\n",
    "    gray = cv2.cvtColor(newImage, cv2.COLOR_BGR2GRAY)\n",
    "    blur = cv2.GaussianBlur(gray, (9, 9), 0)\n",
    "    thresh = cv2.threshold(blur, 0, 255, cv2.THRESH_BINARY_INV + cv2.THRESH_OTSU)[1]\n",
    "\n",
    "    # Apply dilate to merge text into meaningful lines/paragraphs.\n",
    "    # Use larger kernel on X axis to merge characters into single line, cancelling out any spaces.\n",
    "    # But use smaller kernel on Y axis to separate between different blocks of text\n",
    "    kernel = cv2.getStructuringElement(cv2.MORPH_RECT, (30, 5))\n",
    "    dilate = cv2.dilate(thresh, kernel, iterations=5)\n",
    "\n",
    "    # Find all contours\n",
    "    contours, hierarchy = cv2.findContours(dilate, cv2.RETR_LIST, cv2.CHAIN_APPROX_SIMPLE)\n",
    "    contours = sorted(contours, key = cv2.contourArea, reverse = True)\n",
    "\n",
    "    # Find largest contour and surround in min area box\n",
    "    largestContour = contours[0]\n",
    "    minAreaRect = cv2.minAreaRect(largestContour)\n",
    "\n",
    "    # Determine the angle. Convert it to the value that was originally used to obtain skewed image\n",
    "    angle = minAreaRect[-1]\n",
    "    if angle < -45:\n",
    "        angle = 90 + angle\n",
    "    return -1.0 * angle\n",
    "\n",
    "def rotateImage(cvImage, angle: float):\n",
    "    newImage = cvImage.copy()\n",
    "    (h, w) = newImage.shape[:2]\n",
    "    center = (w // 2, h // 2)\n",
    "    M = cv2.getRotationMatrix2D(center, angle, 1.0)\n",
    "    newImage = cv2.warpAffine(newImage, M, (w, h), flags=cv2.INTER_CUBIC, borderMode=cv2.BORDER_REPLICATE)\n",
    "    return newImage\n",
    "\n",
    "def correct_skew2(cvImage):\n",
    "    angle = getSkewAngle(cvImage)\n",
    "    return rotateImage(cvImage, -1.0 * angle)"
   ]
  },
  {
   "cell_type": "raw",
   "id": "50df33a9",
   "metadata": {},
   "source": [
    "By using once again OpenCV we make a preprocess by applying filters and continue to a high level analysis by calculating the current angle of the image. Similar to one before, in order to make as good generalization as possible, we used the OpenCV library with many ways."
   ]
  },
  {
   "cell_type": "code",
   "execution_count": 144,
   "id": "c574e7a5",
   "metadata": {},
   "outputs": [],
   "source": [
    "def cvrotation(original):\n",
    "    gray = cv2.cvtColor(original, cv2.COLOR_BGR2GRAY)\n",
    "    gray = cv2.bitwise_not(gray)\n",
    "    # threshold the image, setting all foreground pixels to\n",
    "    # 255 and all background pixels to 0\n",
    "    thresh = cv2.threshold(gray, 0, 255, cv2.THRESH_BINARY | cv2.THRESH_OTSU)[1]\n",
    "    \n",
    "    coords = np.column_stack(np.where(thresh > 0))\n",
    "    angle = cv2.minAreaRect(coords)[-1]\n",
    "    # the `cv2.minAreaRect` function returns values in the\n",
    "    # range [-90, 0); as the rectangle rotates clockwise the\n",
    "    # returned angle trends to 0 -- in this special case we\n",
    "    # need to add 90 degrees to the angle\n",
    "    if angle < -45: \n",
    "        angle = -(90 + angle)\n",
    "    # otherwise, just take the inverse of the angle to make\n",
    "    # it positive\n",
    "    else:\n",
    "        angle = -angle\n",
    "    \n",
    "    # rotate the image to deskew it\n",
    "    (h, w) = image.shape[:2]\n",
    "    center = (w // 2, h // 2)\n",
    "    M = cv2.getRotationMatrix2D(center, angle, 1.0)\n",
    "    rotated = cv2.warpAffine(image, M, (w, h), flags=cv2.INTER_CUBIC, borderMode=cv2.BORDER_REPLICATE)\n",
    "    return rotated"
   ]
  },
  {
   "cell_type": "raw",
   "id": "6baa1858",
   "metadata": {},
   "source": [
    "Now that we have determined our cropping and rotation mechanisms, we proceed with the text extraction algorithms. Due to the fact that we need to generalize as much as possible, we have used three different text extractors. The first text extractor is a \"free\" api we found, which extracts the text of an image. For further details, please visit https://ocr.space/ocrapi"
   ]
  },
  {
   "cell_type": "code",
   "execution_count": 145,
   "id": "333efc6b",
   "metadata": {},
   "outputs": [],
   "source": [
    "def string1(img):\n",
    "    url_api = \"https://api.ocr.space/parse/image\"\n",
    "    _, compressedimage = cv2.imencode(\".jpg\", img, [1, 90])\n",
    "    file_bytes = io.BytesIO(compressedimage)\n",
    "    result = requests.post(url_api, files = {\"captcha.jpg\": file_bytes}, data = {\"apikey\": \"19b169c2cf88957\"})\n",
    "    result = result.content.decode()\n",
    "    result = json.loads(result)\n",
    "    #print(result)\n",
    "    text_detected = result.get(\"ParsedResults\")[0].get(\"ParsedText\")\n",
    "    return text_detected"
   ]
  },
  {
   "cell_type": "raw",
   "id": "dd2701c3",
   "metadata": {},
   "source": [
    "The second text extractor \"string2\", is the pytesseract library and image_to_string, which is well-known and reliable library, as soon as our image does not have much noise and is correclty rotated."
   ]
  },
  {
   "cell_type": "code",
   "execution_count": 146,
   "id": "ef8204fa",
   "metadata": {},
   "outputs": [],
   "source": [
    "def string2(img):\n",
    "    text = pytesseract.image_to_string(img, lang='eng')\n",
    "    return text"
   ]
  },
  {
   "cell_type": "raw",
   "id": "1e99f0d8",
   "metadata": {},
   "source": [
    "In order to recognise and extract handwritten characters, we use the \"easy-ocr\" library, which is very fast and efficient in recognising handwritten text. For more information please visit https://www.jaided.ai/. We used CPU and set the language to \"English\". Due to the fact that easy-ocr returns the text concatenated, we make a text file and adding spaces bettwen the words."
   ]
  },
  {
   "cell_type": "code",
   "execution_count": 147,
   "id": "02b762ad",
   "metadata": {},
   "outputs": [],
   "source": [
    "def handwritten(image):\n",
    "    reader = easyocr.Reader(['en'],gpu = False) # load once only in memory.\n",
    "    gray = cv2.cvtColor(image, cv2.COLOR_BGR2GRAY)\n",
    "    sharpen_kernel = np.array([[-1,-1,-1], [-1,9,-1], [-1,-1,-1]])\n",
    "    sharpen = cv2.filter2D(gray, -1, sharpen_kernel)\n",
    "    thresh = cv2.threshold(sharpen, 0, 255, cv2.THRESH_BINARY_INV + cv2.THRESH_OTSU)[1]\n",
    "    r_easy_ocr=reader.readtext(thresh,detail=0)\n",
    "    text_output=''\n",
    "    for i in r_easy_ocr:\n",
    "        text_output+=str(i)+\" \"\n",
    "    return text_output"
   ]
  },
  {
   "cell_type": "raw",
   "id": "964ac6b9",
   "metadata": {},
   "source": [
    "Proceeding to our next category of algorithms, we have created four definitions in order to correct the syntax, grammar and vocabulary of the text extracted in case some characters were not correclty recognized. The first NLP corrector is based and uses the Ginger software and is something like \"Grammarly\" in python. For further details, please visit https://www.gingersoftware.com/company-overview. Due to limitations of using this servise, we have applied some workaround inside the definition, in order to correct any text length provided (for research reasons only)."
   ]
  },
  {
   "cell_type": "code",
   "execution_count": 148,
   "id": "12baacc1",
   "metadata": {},
   "outputs": [],
   "source": [
    "def runGinger(par):\n",
    "    subsegment_re = r'[^;:\\n•]+[;,:\\n•]?\\s*'\n",
    "    segmentor = pysbd.Segmenter(language=\"en\", clean=False)\n",
    "    fixed = []\n",
    "    for sentence in segmentor.segment(par):\n",
    "        if len(sentence) < 300:\n",
    "            fixed.append(GingerIt().parse(sentence)['result'])\n",
    "        else:\n",
    "            subsegments = re.findall(subsegment_re, sentence)\n",
    "            if len(subsegments) == 1 or any(len(v) < 300 for v in subsegments):\n",
    "                # print(f'Skipped: {sentence}') // No grammar check possible\n",
    "                fixed.append(sentence)\n",
    "            else:\n",
    "                res = []\n",
    "                for s in subsegments:\n",
    "                    res.append(GingerIt().parse(s)['result'])\n",
    "                fixed.append(\"\".join(res))\n",
    "    return \" \".join(fixed)"
   ]
  },
  {
   "cell_type": "raw",
   "id": "67b469c9",
   "metadata": {},
   "source": [
    "Our second corrector \"correct_text\", uses the language_tool_python library, which performs correction like the microsoft office word. For further details, please follow https://languagetool.org/"
   ]
  },
  {
   "cell_type": "code",
   "execution_count": 149,
   "id": "a1198e0b",
   "metadata": {},
   "outputs": [],
   "source": [
    "def correct_text(text):\n",
    "    tool = language_tool_python.LanguageTool('en-US')\n",
    "    final_text = tool.correct(text)   \n",
    "    return final_text"
   ]
  },
  {
   "cell_type": "raw",
   "id": "ff4a242a",
   "metadata": {},
   "source": [
    "Our third text corrector \"correct_text2\" uses the library TextBlob, which is a famous NLP python library and autocorrects the text provided. "
   ]
  },
  {
   "cell_type": "code",
   "execution_count": 150,
   "id": "387f84e1",
   "metadata": {},
   "outputs": [],
   "source": [
    "def correct_text2(data):\n",
    "    b = TextBlob(data)\n",
    "    corrected = b.correct()\n",
    "    return corrected"
   ]
  },
  {
   "cell_type": "raw",
   "id": "15bea44a",
   "metadata": {},
   "source": [
    "Our last spell checking library, which is literaly named \"SpellChecker\", is also an NLP library which recognises word to word misspelling and replaces the word automatically with the most confident assumption it generates. List of the assumptions is in a comment inside the code."
   ]
  },
  {
   "cell_type": "code",
   "execution_count": 151,
   "id": "44e8c296",
   "metadata": {},
   "outputs": [],
   "source": [
    "spell = SpellChecker()\n",
    "def spell_checker(data):\n",
    "    words = []\n",
    "    for word in data.split():\n",
    "               words.append(word)\n",
    "    # find those words that may be misspelled\n",
    "    misspelled = words\n",
    "    final_text=''\n",
    "    new_words = []\n",
    "    for word in misspelled:\n",
    "        # Get the one `most likely` answer\n",
    "        new_words.append(spell.correction(word))\n",
    "    for i in new_words:\n",
    "        final_text += str(i)+\" \"\n",
    "        # Get a list of `likely` options\n",
    "        #print(spell.candidates(word))\n",
    "    return final_text"
   ]
  },
  {
   "cell_type": "raw",
   "id": "6c6d4741",
   "metadata": {},
   "source": [
    "In order to begin our pipeline, we first use OpenCV library to read our image. For most of our libraries .png, .jpg and .jpeg are supported and preferred. Because we use some online services, only for educational purposes, we change our proxy dynamically in order to allow us to use the service provided."
   ]
  },
  {
   "cell_type": "code",
   "execution_count": 152,
   "id": "2276d9d0",
   "metadata": {},
   "outputs": [
    {
     "data": {
      "text/plain": [
       "<matplotlib.image.AxesImage at 0x1e9809039c8>"
      ]
     },
     "execution_count": 152,
     "metadata": {},
     "output_type": "execute_result"
    },
    {
     "data": {
      "image/png": "[encoded data removed]",
      "text/plain": [
       "<Figure size 432x288 with 1 Axes>"
      ]
     },
     "metadata": {
      "needs_background": "light"
     },
     "output_type": "display_data"
    }
   ],
   "source": [
    "make_me_invisible()\n",
    "image = cv2.imread(r\"C:\\Users\\Admin\\Desktop\\multimodal\\test\\hand2.png\")\n",
    "plt.imshow(image)"
   ]
  },
  {
   "cell_type": "raw",
   "id": "5e502c00",
   "metadata": {},
   "source": [
    "As a first step, we create 3 images with the 3 different cropping algorithms we created earlier."
   ]
  },
  {
   "cell_type": "code",
   "execution_count": 153,
   "id": "735f9c6a",
   "metadata": {},
   "outputs": [],
   "source": [
    "image1 = crop1(image)\n",
    "image2 = crop2(image)\n",
    "image3 = crop3(image)"
   ]
  },
  {
   "cell_type": "raw",
   "id": "bde5af2f",
   "metadata": {},
   "source": [
    "We then use these 3 cropped images, to generate 3 new images that have been rotated, using the first rotation algorithm."
   ]
  },
  {
   "cell_type": "code",
   "execution_count": 154,
   "id": "ff0a8a48",
   "metadata": {},
   "outputs": [],
   "source": [
    "image4 = tesrotate1(image1)\n",
    "image5 = tesrotate1(image2)\n",
    "image6 = tesrotate1(image3)"
   ]
  },
  {
   "cell_type": "raw",
   "id": "5088015a",
   "metadata": {},
   "source": [
    "And we continue to use our 3 cropped images with all the rotation algorithms, to generate every time 3 new \"rotated\" images."
   ]
  },
  {
   "cell_type": "code",
   "execution_count": 155,
   "id": "4fa51043",
   "metadata": {},
   "outputs": [],
   "source": [
    "image7 = tesrotate2(image1)\n",
    "image8 = tesrotate2(image2)\n",
    "image9 = tesrotate2(image3)"
   ]
  },
  {
   "cell_type": "raw",
   "id": "a3311cdd",
   "metadata": {},
   "source": [
    "We follow this technique because due to generalization we wish to achieve and help the text extractor extract the text, we tried to cover a wide range of images in text and rotation is fundamental in text extraction."
   ]
  },
  {
   "cell_type": "code",
   "execution_count": 156,
   "id": "ae583b72",
   "metadata": {},
   "outputs": [],
   "source": [
    "image10 = correct_skew1(image1)\n",
    "image11 = correct_skew1(image2)\n",
    "image12 = correct_skew1(image3)"
   ]
  },
  {
   "cell_type": "raw",
   "id": "e39a55e4",
   "metadata": {},
   "source": [
    "When we finish all the rotation correction, we will have generated 15 rotated images."
   ]
  },
  {
   "cell_type": "code",
   "execution_count": 157,
   "id": "11bd9729",
   "metadata": {},
   "outputs": [],
   "source": [
    "image13 = correct_skew2(image1)\n",
    "image14 = correct_skew2(image2)\n",
    "image15 = correct_skew2(image3)"
   ]
  },
  {
   "cell_type": "raw",
   "id": "1698eae4",
   "metadata": {},
   "source": [
    "Each of these images is the same one image that was firstly read, cropped with 3 different ways and then we calculated all combinations with rotation algorithms. As seen clearly, in every rotation algorithm we \"feed\" the image1, image2 and image3, the cropped ones."
   ]
  },
  {
   "cell_type": "code",
   "execution_count": 158,
   "id": "19d461a1",
   "metadata": {},
   "outputs": [],
   "source": [
    "image16 = cvrotation(image1)\n",
    "image17 = cvrotation(image2)\n",
    "image18 = cvrotation(image3)\n",
    "\n",
    "image19 = image #original image"
   ]
  },
  {
   "cell_type": "raw",
   "id": "f5df6ec1",
   "metadata": {},
   "source": [
    "Having finished with crop and rotation, we now have 3 only cropped images and 15 rotated. We also kept the original image, in case the image is already easy to text extract and there is no noise. In total, we have 19 images. The next step is to apply the text extraction. We have 3 different techniques to extract text, as mentioned before. We begin by applying the first technique to all 19 images. We now dynamically create variables, which all contain text extracted from all the images. That means that we have 19 variables (text1-text19) with the first method."
   ]
  },
  {
   "cell_type": "code",
   "execution_count": 159,
   "id": "ce9e2720",
   "metadata": {
    "scrolled": false
   },
   "outputs": [],
   "source": [
    "for i in range(1,20,1):\n",
    "    globals()[f\"text{i}\"] = string1(globals()[f\"image{i}\"])"
   ]
  },
  {
   "cell_type": "raw",
   "id": "91f737c1",
   "metadata": {},
   "source": [
    "Now we will apply the second method of text extraction to all 19 images. That means that we will dynamically create variables that contain the text extracted. Another 19 texts, adding to the previous 19, total of 38."
   ]
  },
  {
   "cell_type": "code",
   "execution_count": 160,
   "id": "e83c9099",
   "metadata": {},
   "outputs": [],
   "source": [
    "j=1\n",
    "for i in range(20,39,1):\n",
    "    globals()[f\"text{i}\"] = string2(globals()[f\"image{j}\"])\n",
    "    j=j+1"
   ]
  },
  {
   "cell_type": "raw",
   "id": "ceff5a72",
   "metadata": {},
   "source": [
    "An as a last step of text extraction, we will apply the third method, that will once again generate another 19 texts. Adding to total of 57."
   ]
  },
  {
   "cell_type": "code",
   "execution_count": 161,
   "id": "76cedfc1",
   "metadata": {},
   "outputs": [
    {
     "name": "stderr",
     "output_type": "stream",
     "text": [
      "Using CPU. Note: This module is much faster with a GPU.\n",
      "Using CPU. Note: This module is much faster with a GPU.\n",
      "Using CPU. Note: This module is much faster with a GPU.\n",
      "Using CPU. Note: This module is much faster with a GPU.\n",
      "Using CPU. Note: This module is much faster with a GPU.\n",
      "Using CPU. Note: This module is much faster with a GPU.\n",
      "Using CPU. Note: This module is much faster with a GPU.\n",
      "Using CPU. Note: This module is much faster with a GPU.\n",
      "Using CPU. Note: This module is much faster with a GPU.\n",
      "Using CPU. Note: This module is much faster with a GPU.\n",
      "Using CPU. Note: This module is much faster with a GPU.\n",
      "Using CPU. Note: This module is much faster with a GPU.\n",
      "Using CPU. Note: This module is much faster with a GPU.\n",
      "Using CPU. Note: This module is much faster with a GPU.\n",
      "Using CPU. Note: This module is much faster with a GPU.\n",
      "Using CPU. Note: This module is much faster with a GPU.\n",
      "Using CPU. Note: This module is much faster with a GPU.\n",
      "Using CPU. Note: This module is much faster with a GPU.\n",
      "Using CPU. Note: This module is much faster with a GPU.\n"
     ]
    }
   ],
   "source": [
    "j=1\n",
    "for i in range(40,59,1):\n",
    "    globals()[f\"text{i}\"] = handwritten(globals()[f\"image{j}\"])\n",
    "    j=j+1"
   ]
  },
  {
   "cell_type": "raw",
   "id": "e3eeba66",
   "metadata": {},
   "source": [
    "We have now 57 texts that we somehow need to select the best ones. We will perform a \"maxpooling\" by selecting those with the highest length. That means that the extractor extracted the most characters. We will firstly distinguish the machine written texts to the handwritten."
   ]
  },
  {
   "cell_type": "code",
   "execution_count": 162,
   "id": "2c9a18c3",
   "metadata": {},
   "outputs": [],
   "source": [
    "maxlentext = text1\n",
    "for i in range(2,39,1):\n",
    "    prevlength = len(globals()[f\"text{i-1}\"]) # we compare each time the previous with the current and keep the one\n",
    "    length = len(globals()[f\"text{i}\"])       # with the max length\n",
    "    if length>prevlength:\n",
    "        maxlentext=globals()[f\"text{i}\"]"
   ]
  },
  {
   "cell_type": "raw",
   "id": "369ebc5b",
   "metadata": {},
   "source": [
    "The handwritten recognizer, our last text extractor, generated the texts 40-59 as seen in the previous steps, so we know that if an image had handwritten text, it will be easier recognized in these texts."
   ]
  },
  {
   "cell_type": "code",
   "execution_count": 163,
   "id": "2470e3a7",
   "metadata": {},
   "outputs": [],
   "source": [
    "maxlentext_hand = text40\n",
    "for i in range(41,59,1):\n",
    "    prevlength = len(globals()[f\"text{i-1}\"])\n",
    "    length = len(globals()[f\"text{i}\"])\n",
    "    if length>prevlength:\n",
    "        maxlentext_hand=globals()[f\"text{i}\"]"
   ]
  },
  {
   "cell_type": "raw",
   "id": "9cf294c2",
   "metadata": {},
   "source": [
    "So by applying this \"maxpooling\" step, we now only have 2 texts, the one with the max length from the machine written extractors (the first two) and the max length text from the handwritten extractor. We may see our texts in the next step."
   ]
  },
  {
   "cell_type": "code",
   "execution_count": 164,
   "id": "c250f5f5",
   "metadata": {},
   "outputs": [
    {
     "name": "stdout",
     "output_type": "stream",
     "text": [
      "Machine written extractor\n",
      "his is oa hanoluritten\n",
      "\n",
      "example\n",
      "\n",
      " \n",
      "\n",
      "Wrije as goood as fad can\n",
      "\n",
      "\n",
      " \n",
      "Handwritten extractor\n",
      "Ths 15 4 hand Jr { tew ex ample Wrie MS Joo0 0 $ You can \n"
     ]
    }
   ],
   "source": [
    "print(\"Machine written extractor\")\n",
    "print(maxlentext)\n",
    "print(\" \")\n",
    "print(\"Handwritten extractor\")\n",
    "print(maxlentext_hand)"
   ]
  },
  {
   "cell_type": "raw",
   "id": "f6fe6e9d",
   "metadata": {},
   "source": [
    "Now we will apply our NLP techniques in order to apply Vocaburaly, Grammatical and Syntax corrections due to possible noise in the text. We have 4 different NLP algoritmhs for this task. We begin with the first one in both texts (machine and handwritten)."
   ]
  },
  {
   "cell_type": "code",
   "execution_count": 165,
   "id": "a77ce644",
   "metadata": {},
   "outputs": [
    {
     "name": "stdout",
     "output_type": "stream",
     "text": [
      "He is a hanoluritten\n",
      "\n",
      " example\n",
      "\n",
      " \n",
      "\n",
      " Wrije as good as fad can\n",
      "\n",
      "\n",
      " \n",
      "This 15 4 hand Jr {the example Wrie MS Joo0 0 $ You can \n"
     ]
    }
   ],
   "source": [
    "correct1 = runGinger(maxlentext)\n",
    "correct5 = runGinger(maxlentext_hand)\n",
    "print(correct1)\n",
    "print(\" \")\n",
    "print(correct5)"
   ]
  },
  {
   "cell_type": "raw",
   "id": "fdc1c88d",
   "metadata": {},
   "source": [
    "We will continue applying these NLP algorithms each time and print the corrected output for both of the texts we have. "
   ]
  },
  {
   "cell_type": "code",
   "execution_count": 166,
   "id": "36c78a26",
   "metadata": {},
   "outputs": [
    {
     "name": "stdout",
     "output_type": "stream",
     "text": [
      "His is OA handwritten\n",
      "\n",
      "example\n",
      "\n",
      " \n",
      "\n",
      "Write as good as fad can\n",
      "\n",
      "\n",
      " \n",
      "Th's 15 4 hand Jr {too ex ample Write MS Joo0 $0 You can \n"
     ]
    }
   ],
   "source": [
    "correct2 = correct_text(maxlentext)\n",
    "correct6 = correct_text(maxlentext_hand)\n",
    "print(correct2)\n",
    "print(\" \")\n",
    "print(correct6)"
   ]
  },
  {
   "cell_type": "code",
   "execution_count": 167,
   "id": "4c4c2e95",
   "metadata": {
    "scrolled": false
   },
   "outputs": [
    {
     "name": "stdout",
     "output_type": "stream",
     "text": [
      "his is of hanoluritten\n",
      "\n",
      "example\n",
      "\n",
      " \n",
      "\n",
      "Rise as good as fad can\n",
      "\n",
      "\n",
      " \n",
      "The 15 4 hand Or { new ex ample Erie of Room 0 $ You can \n"
     ]
    }
   ],
   "source": [
    "correct3 = correct_text2(maxlentext)\n",
    "correct7 = correct_text2(maxlentext_hand)\n",
    "print(correct3)\n",
    "print(\" \")\n",
    "print(correct7)"
   ]
  },
  {
   "cell_type": "code",
   "execution_count": 168,
   "id": "bf9a8a9f",
   "metadata": {},
   "outputs": [
    {
     "name": "stdout",
     "output_type": "stream",
     "text": [
      "his is oa hanoluritten example write as goood as fad can \n",
      " \n",
      "the 15 4 hand or { tew ex ample write is joon 0 $ You can \n"
     ]
    }
   ],
   "source": [
    "correct4 = spell_checker(maxlentext)\n",
    "correct8 = spell_checker(maxlentext_hand)\n",
    "print(correct4)\n",
    "print(\" \")\n",
    "print(correct8)"
   ]
  },
  {
   "cell_type": "raw",
   "id": "7e35af48",
   "metadata": {},
   "source": [
    "In case there was no need of NLP, but also observe the results of our NLP preprocess, we will print the text extraction without NLP."
   ]
  },
  {
   "cell_type": "code",
   "execution_count": 169,
   "id": "77120428",
   "metadata": {},
   "outputs": [
    {
     "name": "stdout",
     "output_type": "stream",
     "text": [
      "his is oa hanoluritten\n",
      "\n",
      "example\n",
      "\n",
      " \n",
      "\n",
      "Wrije as goood as fad can\n",
      "\n",
      "\n",
      " \n",
      "Ths 15 4 hand Jr { tew ex ample Wrie MS Joo0 0 $ You can \n"
     ]
    }
   ],
   "source": [
    "correct9 = maxlentext\n",
    "correct10 = maxlentext_hand\n",
    "print(correct9)\n",
    "print(\" \")\n",
    "print(correct10)"
   ]
  },
  {
   "cell_type": "raw",
   "id": "24dd6e16",
   "metadata": {},
   "source": [
    "And lastly we print the text extraction of the original image without any other preprocess applied, in case it did not make the \"maxpooling\" we applied (3 different text extractors, so 3 different texts)."
   ]
  },
  {
   "cell_type": "code",
   "execution_count": 170,
   "id": "73b3fa8e",
   "metadata": {},
   "outputs": [
    {
     "name": "stdout",
     "output_type": "stream",
     "text": [
      "-r his I's a havtolLJm++eL.n\r\n",
      "IJrae as 00001 as you Can.\r\n",
      "\n",
      " \n"
     ]
    },
    {
     "name": "stderr",
     "output_type": "stream",
     "text": [
      "Using CPU. Note: This module is much faster with a GPU.\n"
     ]
    },
    {
     "name": "stdout",
     "output_type": "stream",
     "text": [
      "his is oa hanoluritten\n",
      "\n",
      "example\n",
      "\n",
      " \n",
      "\n",
      "Wrije as goood as fad can\n",
      "\n",
      "\n",
      " \n",
      "Ths 15 4 hand Jr { tew ex ample Wrie MS Joo0 0 $ You can \n"
     ]
    }
   ],
   "source": [
    "print(string1(image)) \n",
    "print(\" \")\n",
    "print(string2(image))\n",
    "print(\" \")\n",
    "print(handwritten(image))"
   ]
  }
 ],
 "metadata": {
  "kernelspec": {
   "display_name": "Python 3",
   "language": "python",
   "name": "python3"
  },
  "language_info": {
   "codemirror_mode": {
    "name": "ipython",
    "version": 3
   },
   "file_extension": ".py",
   "mimetype": "text/x-python",
   "name": "python",
   "nbconvert_exporter": "python",
   "pygments_lexer": "ipython3",
   "version": "3.7.10"
  }
 },
 "nbformat": 4,
 "nbformat_minor": 5
}
